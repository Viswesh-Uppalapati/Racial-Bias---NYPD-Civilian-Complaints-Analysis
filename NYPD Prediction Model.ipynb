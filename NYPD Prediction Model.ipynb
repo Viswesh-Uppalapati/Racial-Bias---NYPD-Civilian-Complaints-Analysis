{
 "cells": [
  {
   "cell_type": "markdown",
   "metadata": {},
   "source": [
    "# NYPD Complaint Time Open Prediction Model"
   ]
  },
  {
   "cell_type": "markdown",
   "metadata": {},
   "source": [
    "#### Contributors: Shasank Bonthala, Viswesh Uppalapati"
   ]
  },
  {
   "cell_type": "markdown",
   "metadata": {},
   "source": [
    "# Summary of Findings\n",
    "\n",
    "\n",
    "### Introduction\n",
    "\n",
    "We are ultimatly trying to see if demographic information about the complainent (such as age, gender, ethnicity) along with information about the officer (such as age, gender, ethnicity) can be used to accurately preduct the length that each complaint case remains open for the NYPD complaints dataset. This problem is a regression because we are trying to produce predictions of lengths (in months). The target variable is the time in months that each case is open. We think this is extremely important because it can show that certain variables that shouldn't have an affect on this metric actually end up affecting the length of each case (such as race, age, gender). Our evaluation metric is root mean squared error (RMSE) and with a regression model, we feel that this would be the best evaluation metric to compare against our features. We will also look at the R^2 score for each model but given that we don't have too much experience in feature modeling, all the R^2 scores will be pretty low (they can still be a good indicator of growth however).\n",
    "\n",
    "\n",
    "#### Cleaning\n",
    "\n",
    "Cleaning the nypd complaints dataset involved many different steps, each of which cut down or transformed the dataset to be relevant to our prediction problem. These steps, in order, included:\n",
    "\n",
    "- First, we loaded the dataset 'allegations.csv' into a Pandas dataframe called complaints.\n",
    "- There are over 25 columns in the original complaints dataset, therefore, we kept the columns only relevant to the question we posed. These include: 'unique_mos_id', 'complaint_id', 'month_received', 'year_received', 'month_closed', 'year_closed', 'mos_ethnicity', 'mos_gender', 'mos_age_incident', 'complainant_ethnicity', 'complainant_gender', 'complainant_age_incident', 'fado_type', 'allegation', 'precinct', and, 'board_disposition'.\n",
    "- The date of reception and closure of each complaint was given in four separate columns in the original dataset, therefore, we combined them and took the difference between them in order to calculate the time each case is open. We dropped the original date columns and added the column of the time each case was open for. This will allow us to predict the time open and check the accuracy of our prediction based on the other variables.\n",
    "- Some of the columns in the dataset were known to contain \"Unknown\" values, so we looked at every column of our modified dataset and found that only the 'complainant ethnicity' had 'Unkown\" values. We changed these \"Unkown\" values to np.NaNs.\n",
    "- The original dataset has inconsistencies in how the gender of the officer reported and that of the complainant were recorded in the dataset, so, the gender of the officers were changed to have to same format as that of the complainant. This will allow for consistent syntax and labels through our analysis.\n",
    "- Next, we see that the 'board_disposition' column has three main decisions: Substantiated, Unsubstantiated, and Exonerated. The 'Substantiated' decision, however, has multiple sub-categories. For easier representation during prediction, we removed the sub-categories and kept only the main decision info.\n",
    "- Lastly, the 'complainant_age_incident' column had some values for ages that were 0.0 and under. This indicates a recording error as there can't be people of ages 0 and under that are reporting a complaint against nypd. Therefore, we changed these values to np.NaN as they are likely missing values. We assumed any age above 0 to be a valid recording of the age eventhough that might not be the case. Again, this will help us with proper representation and analysis of the data as it relates to our question.\n",
    "- Lastly, we proceeded to impute the each column with missing data by sampling from the distribution of that column. This ensures that there are no np.NaN values in our columns that will result in errors in our regression.\n",
    "\n",
    "\n",
    "### Baseline Model\n",
    "\n",
    "The final number of columns we used in our baseline predicton model was 7. Descriptions of them and why we felt they are important are as follows:\n",
    "- **mos_ethnicity**: The ethnicity of the officer. We felt this was important because officers with certain ethnicities may have an impact on the length that the case remains open.\n",
    "- **mos_gender**: The gender of the officer. Similar too mos_ethnicity, we felt this could play a key role in predicting the length of a case. \n",
    "- **mos_age_incident**: The age of the officer. Similar to both of the columns above, we felt this could play a key role in predicting the length of a case.\n",
    "- **complainant_ethnicity**: The ethnicity of the complainant. Based on our project 3, ethnicity was statistically proven to be discriminated against (by our hypothesis test) so it plays a key role. \n",
    "- **complainant_gender**: The gender of the complainant. Like complainant ethnicity, our project 3 lead us to believe that gender could play a key role in predicting the length of a case.\n",
    "- **complainant_age_incident**: The age of the complainant. Similar to the previous two above, based on project 3 results, we belive this plays a key role in the prediction.\n",
    "- **fado_type**: Category of the complaint. This definitely would play a role in how long the cases stay open.\n",
    "\n",
    "We ended up dropping the following columns from our baseline model for the following reasons:\n",
    "- **time_open (in months)**: This is the y in our prediction model so it was dropped in the X table and stored as the y.\n",
    "- **unique_mos_id**: The unique ID of each officer. We decided to drop this because there wasn't really a way to encode this (too many values for one hot encoding and no order to ordinally encode)\n",
    "- **complaint_id**: The unique ID of each complaint. Similar to the unique_mos_id, there wasn't really a natural way to encode this column so we decided to drop it.\n",
    "- **precinct**: The precinct of the officer that is being complained against. Also very similarly, there wasn't a way to naturally order the precincts\n",
    "- **board_disposition**: The decision by the board. We dropped this column because realistically at the time of the prediction, we wouldn't have access to this decision.\n",
    "\n",
    "In total we had 2 quantitative features (mos_age_incident & complainant_age_incident) and 5 nominal features (mos_ethnicity, mos_gender, complainant_ethnicity, complainant_gender, fado_type). With the baseline model, the RMSE that we got after we rounded the predictions (because our values in the data set were ints) was 4.78 months. We think that this model is a pretty bad model because having an average error of around 5 months on a prediction for how long a case remains open is pretty bad. Especially since the majority of the cases don't stay open past 12 months (unless in extreme cases) but we did use a linear regression model with no feature engineering so we expected the RMSE to be quite bad.\n",
    "\n",
    "\n",
    "### Final Model\n",
    "\n",
    "For our final model, we ended up using the same columns to predict that were used in our baseline model (as mentioned above). To start with feature engineering, we created a new transformer called StdScalerByGroup(). This transformer takes in a dataframe with a categorical column at column index 0 and transforms the rest of the quantitative data in that dataframe by standardizing by the group. To do so, the transformer z-scales the values based on the mean and standard deviation of each group. In our final model, we standardized ‘complainant _age_incident’ based on the ‘complainant_ethnicity’ and we standardized ‘mos_age_incident’ by the ‘precinct’ that each complaint was associated with. Next, we created a function that binarized the ethnicity columns. It assigned the value of 1 to ‘White’ ethnicities and 0 to the rest. We used this to transform ‘mos_ethnicity’ and ‘complainant_ethnicity’. Lastly, we kept the one-hot encoding on ‘mos_gender’, ‘complainant_gender’, and ‘fado_type’ from our baseline model and dropped the rest of the columns. The above transformations were all combined into a single ColumnTransformer that was accessed throughout the rest of the project.\n",
    "\n",
    "Using the ColumnTransformer that was built after feature engineering, we used GridSearchCV on different regression models to find the best predicting parameters for each of the regressors. We tested this on RandomForestRegressor, DecisionTreeRegressor, and KNeighborsRegressor. Each was passed into the GS_Model() method along with a test set of parameters and the ColumnTransformer that was built above. Using these, the method runs and fits a GridSearch algorithm to the training data. The mean test scores (R^2) values for each regressor were plotted as a histogram. The graphs indicated that RandomForestRegressor() with parameters {'max_depth': None, 'min_samples_leaf': 1, 'min_samples_split': 2} seemed to\n",
    "have the best overall performance on the train dataset, while the other two regressors had test scores that were mostly zero and under. Upon conclusion of the GridSearchCV algorithm for each of the regressors, we had the best set of parameters for each of the regressors that were used to build a model.\n",
    "\n",
    "Finally, the best parameters for each of the models were once again used for a final evaluation to test the model performance on the test dataset. Using the calc_model() method that calculated the performance of the passed in model on the test dataset using measures such as R^2 and RMSE, each regressor was tested one final time on the test set to compare the evaluation metrics. In addition to the regressors used in GridSearch, we also built another LinearRegression model to compare to the baseline LinearRegression model. Based on the results, RandomForestRegression seemed to work the best at predicting on the test set. For the baseline model, R^2 on the test set is 0.0132 and RMSE was 5.0632, while the model built on the ColumnTransformer and RandomForestRegressor() with the best parameters had an R^2 of 0.268 and RMSE of 4.365. All the other regression models had an R^2 that was significantly lower than the RandomForestRegressor model and an RMSE that was close to that of the baseline model indicating that the other models did not predict the average time open of each case accurately. Since the performance of the RandomForestRegressor model improved significantly on the baseline model, we chose that as our final model. \n",
    "\n",
    "\n",
    "### Fairness Evaluation\n",
    "\n",
    "For our measure of fairness, we thought it would be interesting to look at the complainaint ethnicities and break that column into white vs non-white sub groups. Looking at whether or not our model would accurately predict one group vs the other seemed to be of interest to us. First of all to justify the parity measure used for our fairness test, we felt that the best option to use was the absolute difference between root mean squared errors for the white complainant ethnicity sub group and the non-white complainant ethnicity sub group. The reason we used the difference between RMSE errors is because our model is a regression model so using measures like precision and accuracy don't really apply. The best measure of fairness, we determined, was the RMSE scores over the R^2 scores because we felt it would apply more to the length of the each case being opened. RMSE is a metric that determines on average how close our predictions to the real time open actually were for each sub group. So using the difference of this metric ends up being the best choice when deciding if the model ended up fairly predicting each sub group the same. We ran a permutation test with 500 iterations with the followinig null and alternative hypothesis' along wth the test statistic:\n",
    "\n",
    "**Null Hypothesis**: my model is fair; the RMSE for my two subsets (white vs non-white) are roughly the same\n",
    "\n",
    "**Alternative Hypothesis**: my model is unfair; the RMSE for the non-white subset is higher than the white subset\n",
    "\n",
    "**Test Statistic**: Absolute Difference in RMSE values for white subset and non-white subset\n",
    "\n",
    "Based on the permutation test we ran, with an observed asbolute RMSE difference of 0.380 for the two different sub groups, the p-value we ended up with was 0.488. Because of this we end up failing to reject the null hypothesis and end up favoring it in that our model is fair and the RMSEs of the two subsets of ethnicities (white vs non-white) are roughly the same. This is ideal because it means that our model can be used without concern of bias if we are predicting white vs non-white ethnicities."
   ]
  },
  {
   "cell_type": "markdown",
   "metadata": {},
   "source": [
    "# Code"
   ]
  },
  {
   "cell_type": "code",
   "execution_count": 265,
   "metadata": {},
   "outputs": [],
   "source": [
    "import matplotlib.pyplot as plt\n",
    "import numpy as np\n",
    "import os\n",
    "import pandas as pd\n",
    "import seaborn as sns\n",
    "%matplotlib inline\n",
    "%config InlineBackend.figure_format = 'retina'  # Higher resolution figures"
   ]
  },
  {
   "cell_type": "code",
   "execution_count": 266,
   "metadata": {},
   "outputs": [],
   "source": [
    "from sklearn.linear_model import LinearRegression\n",
    "from sklearn.preprocessing import FunctionTransformer\n",
    "from sklearn.preprocessing import OneHotEncoder\n",
    "from sklearn.pipeline import Pipeline\n",
    "from sklearn.compose import ColumnTransformer\n",
    "\n",
    "from sklearn.tree import DecisionTreeRegressor\n",
    "from sklearn.model_selection import train_test_split\n",
    "from sklearn.neighbors import KNeighborsRegressor\n",
    "from sklearn.model_selection import train_test_split\n",
    "from sklearn.ensemble import RandomForestRegressor\n",
    "from sklearn.model_selection import GridSearchCV\n",
    "from sklearn.metrics import mean_squared_error"
   ]
  },
  {
   "cell_type": "markdown",
   "metadata": {},
   "source": [
    "##### Data Cleaning"
   ]
  },
  {
   "cell_type": "code",
   "execution_count": 267,
   "metadata": {},
   "outputs": [
    {
     "data": {
      "text/html": [
       "<div>\n",
       "<style scoped>\n",
       "    .dataframe tbody tr th:only-of-type {\n",
       "        vertical-align: middle;\n",
       "    }\n",
       "\n",
       "    .dataframe tbody tr th {\n",
       "        vertical-align: top;\n",
       "    }\n",
       "\n",
       "    .dataframe thead th {\n",
       "        text-align: right;\n",
       "    }\n",
       "</style>\n",
       "<table border=\"1\" class=\"dataframe\">\n",
       "  <thead>\n",
       "    <tr style=\"text-align: right;\">\n",
       "      <th></th>\n",
       "      <th>unique_mos_id</th>\n",
       "      <th>first_name</th>\n",
       "      <th>last_name</th>\n",
       "      <th>command_now</th>\n",
       "      <th>shield_no</th>\n",
       "      <th>complaint_id</th>\n",
       "      <th>month_received</th>\n",
       "      <th>year_received</th>\n",
       "      <th>month_closed</th>\n",
       "      <th>year_closed</th>\n",
       "      <th>...</th>\n",
       "      <th>mos_age_incident</th>\n",
       "      <th>complainant_ethnicity</th>\n",
       "      <th>complainant_gender</th>\n",
       "      <th>complainant_age_incident</th>\n",
       "      <th>fado_type</th>\n",
       "      <th>allegation</th>\n",
       "      <th>precinct</th>\n",
       "      <th>contact_reason</th>\n",
       "      <th>outcome_description</th>\n",
       "      <th>board_disposition</th>\n",
       "    </tr>\n",
       "  </thead>\n",
       "  <tbody>\n",
       "    <tr>\n",
       "      <th>0</th>\n",
       "      <td>10004</td>\n",
       "      <td>Jonathan</td>\n",
       "      <td>Ruiz</td>\n",
       "      <td>078 PCT</td>\n",
       "      <td>8409</td>\n",
       "      <td>42835</td>\n",
       "      <td>7</td>\n",
       "      <td>2019</td>\n",
       "      <td>5</td>\n",
       "      <td>2020</td>\n",
       "      <td>...</td>\n",
       "      <td>32</td>\n",
       "      <td>Black</td>\n",
       "      <td>Female</td>\n",
       "      <td>38.0</td>\n",
       "      <td>Abuse of Authority</td>\n",
       "      <td>Failure to provide RTKA card</td>\n",
       "      <td>78.0</td>\n",
       "      <td>Report-domestic dispute</td>\n",
       "      <td>No arrest made or summons issued</td>\n",
       "      <td>Substantiated (Command Lvl Instructions)</td>\n",
       "    </tr>\n",
       "    <tr>\n",
       "      <th>1</th>\n",
       "      <td>10007</td>\n",
       "      <td>John</td>\n",
       "      <td>Sears</td>\n",
       "      <td>078 PCT</td>\n",
       "      <td>5952</td>\n",
       "      <td>24601</td>\n",
       "      <td>11</td>\n",
       "      <td>2011</td>\n",
       "      <td>8</td>\n",
       "      <td>2012</td>\n",
       "      <td>...</td>\n",
       "      <td>24</td>\n",
       "      <td>Black</td>\n",
       "      <td>Male</td>\n",
       "      <td>26.0</td>\n",
       "      <td>Discourtesy</td>\n",
       "      <td>Action</td>\n",
       "      <td>67.0</td>\n",
       "      <td>Moving violation</td>\n",
       "      <td>Moving violation summons issued</td>\n",
       "      <td>Substantiated (Charges)</td>\n",
       "    </tr>\n",
       "    <tr>\n",
       "      <th>2</th>\n",
       "      <td>10007</td>\n",
       "      <td>John</td>\n",
       "      <td>Sears</td>\n",
       "      <td>078 PCT</td>\n",
       "      <td>5952</td>\n",
       "      <td>24601</td>\n",
       "      <td>11</td>\n",
       "      <td>2011</td>\n",
       "      <td>8</td>\n",
       "      <td>2012</td>\n",
       "      <td>...</td>\n",
       "      <td>24</td>\n",
       "      <td>Black</td>\n",
       "      <td>Male</td>\n",
       "      <td>26.0</td>\n",
       "      <td>Offensive Language</td>\n",
       "      <td>Race</td>\n",
       "      <td>67.0</td>\n",
       "      <td>Moving violation</td>\n",
       "      <td>Moving violation summons issued</td>\n",
       "      <td>Substantiated (Charges)</td>\n",
       "    </tr>\n",
       "    <tr>\n",
       "      <th>3</th>\n",
       "      <td>10007</td>\n",
       "      <td>John</td>\n",
       "      <td>Sears</td>\n",
       "      <td>078 PCT</td>\n",
       "      <td>5952</td>\n",
       "      <td>26146</td>\n",
       "      <td>7</td>\n",
       "      <td>2012</td>\n",
       "      <td>9</td>\n",
       "      <td>2013</td>\n",
       "      <td>...</td>\n",
       "      <td>25</td>\n",
       "      <td>Black</td>\n",
       "      <td>Male</td>\n",
       "      <td>45.0</td>\n",
       "      <td>Abuse of Authority</td>\n",
       "      <td>Question</td>\n",
       "      <td>67.0</td>\n",
       "      <td>PD suspected C/V of violation/crime - street</td>\n",
       "      <td>No arrest made or summons issued</td>\n",
       "      <td>Substantiated (Charges)</td>\n",
       "    </tr>\n",
       "    <tr>\n",
       "      <th>4</th>\n",
       "      <td>10009</td>\n",
       "      <td>Noemi</td>\n",
       "      <td>Sierra</td>\n",
       "      <td>078 PCT</td>\n",
       "      <td>24058</td>\n",
       "      <td>40253</td>\n",
       "      <td>8</td>\n",
       "      <td>2018</td>\n",
       "      <td>2</td>\n",
       "      <td>2019</td>\n",
       "      <td>...</td>\n",
       "      <td>39</td>\n",
       "      <td>NaN</td>\n",
       "      <td>NaN</td>\n",
       "      <td>16.0</td>\n",
       "      <td>Force</td>\n",
       "      <td>Physical force</td>\n",
       "      <td>67.0</td>\n",
       "      <td>Report-dispute</td>\n",
       "      <td>Arrest - other violation/crime</td>\n",
       "      <td>Substantiated (Command Discipline A)</td>\n",
       "    </tr>\n",
       "    <tr>\n",
       "      <th>...</th>\n",
       "      <td>...</td>\n",
       "      <td>...</td>\n",
       "      <td>...</td>\n",
       "      <td>...</td>\n",
       "      <td>...</td>\n",
       "      <td>...</td>\n",
       "      <td>...</td>\n",
       "      <td>...</td>\n",
       "      <td>...</td>\n",
       "      <td>...</td>\n",
       "      <td>...</td>\n",
       "      <td>...</td>\n",
       "      <td>...</td>\n",
       "      <td>...</td>\n",
       "      <td>...</td>\n",
       "      <td>...</td>\n",
       "      <td>...</td>\n",
       "      <td>...</td>\n",
       "      <td>...</td>\n",
       "      <td>...</td>\n",
       "      <td>...</td>\n",
       "    </tr>\n",
       "    <tr>\n",
       "      <th>33353</th>\n",
       "      <td>9992</td>\n",
       "      <td>Tomasz</td>\n",
       "      <td>Pulawski</td>\n",
       "      <td>078 PCT</td>\n",
       "      <td>2642</td>\n",
       "      <td>35671</td>\n",
       "      <td>8</td>\n",
       "      <td>2016</td>\n",
       "      <td>2</td>\n",
       "      <td>2017</td>\n",
       "      <td>...</td>\n",
       "      <td>36</td>\n",
       "      <td>Asian</td>\n",
       "      <td>Male</td>\n",
       "      <td>21.0</td>\n",
       "      <td>Discourtesy</td>\n",
       "      <td>Word</td>\n",
       "      <td>66.0</td>\n",
       "      <td>Moving violation</td>\n",
       "      <td>Moving violation summons issued</td>\n",
       "      <td>Unsubstantiated</td>\n",
       "    </tr>\n",
       "    <tr>\n",
       "      <th>33354</th>\n",
       "      <td>9992</td>\n",
       "      <td>Tomasz</td>\n",
       "      <td>Pulawski</td>\n",
       "      <td>078 PCT</td>\n",
       "      <td>2642</td>\n",
       "      <td>35671</td>\n",
       "      <td>8</td>\n",
       "      <td>2016</td>\n",
       "      <td>2</td>\n",
       "      <td>2017</td>\n",
       "      <td>...</td>\n",
       "      <td>36</td>\n",
       "      <td>Asian</td>\n",
       "      <td>Male</td>\n",
       "      <td>21.0</td>\n",
       "      <td>Abuse of Authority</td>\n",
       "      <td>Interference with recording</td>\n",
       "      <td>66.0</td>\n",
       "      <td>Moving violation</td>\n",
       "      <td>Moving violation summons issued</td>\n",
       "      <td>Unsubstantiated</td>\n",
       "    </tr>\n",
       "    <tr>\n",
       "      <th>33355</th>\n",
       "      <td>9992</td>\n",
       "      <td>Tomasz</td>\n",
       "      <td>Pulawski</td>\n",
       "      <td>078 PCT</td>\n",
       "      <td>2642</td>\n",
       "      <td>35671</td>\n",
       "      <td>8</td>\n",
       "      <td>2016</td>\n",
       "      <td>2</td>\n",
       "      <td>2017</td>\n",
       "      <td>...</td>\n",
       "      <td>36</td>\n",
       "      <td>Asian</td>\n",
       "      <td>Male</td>\n",
       "      <td>21.0</td>\n",
       "      <td>Abuse of Authority</td>\n",
       "      <td>Search (of person)</td>\n",
       "      <td>66.0</td>\n",
       "      <td>Moving violation</td>\n",
       "      <td>Moving violation summons issued</td>\n",
       "      <td>Substantiated (Formalized Training)</td>\n",
       "    </tr>\n",
       "    <tr>\n",
       "      <th>33356</th>\n",
       "      <td>9992</td>\n",
       "      <td>Tomasz</td>\n",
       "      <td>Pulawski</td>\n",
       "      <td>078 PCT</td>\n",
       "      <td>2642</td>\n",
       "      <td>35671</td>\n",
       "      <td>8</td>\n",
       "      <td>2016</td>\n",
       "      <td>2</td>\n",
       "      <td>2017</td>\n",
       "      <td>...</td>\n",
       "      <td>36</td>\n",
       "      <td>Asian</td>\n",
       "      <td>Male</td>\n",
       "      <td>21.0</td>\n",
       "      <td>Abuse of Authority</td>\n",
       "      <td>Vehicle search</td>\n",
       "      <td>66.0</td>\n",
       "      <td>Moving violation</td>\n",
       "      <td>Moving violation summons issued</td>\n",
       "      <td>Substantiated (Formalized Training)</td>\n",
       "    </tr>\n",
       "    <tr>\n",
       "      <th>33357</th>\n",
       "      <td>9992</td>\n",
       "      <td>Tomasz</td>\n",
       "      <td>Pulawski</td>\n",
       "      <td>078 PCT</td>\n",
       "      <td>2642</td>\n",
       "      <td>35671</td>\n",
       "      <td>8</td>\n",
       "      <td>2016</td>\n",
       "      <td>2</td>\n",
       "      <td>2017</td>\n",
       "      <td>...</td>\n",
       "      <td>36</td>\n",
       "      <td>Asian</td>\n",
       "      <td>Male</td>\n",
       "      <td>21.0</td>\n",
       "      <td>Abuse of Authority</td>\n",
       "      <td>Frisk</td>\n",
       "      <td>66.0</td>\n",
       "      <td>Moving violation</td>\n",
       "      <td>Moving violation summons issued</td>\n",
       "      <td>Substantiated (Formalized Training)</td>\n",
       "    </tr>\n",
       "  </tbody>\n",
       "</table>\n",
       "<p>33358 rows × 27 columns</p>\n",
       "</div>"
      ],
      "text/plain": [
       "       unique_mos_id first_name last_name command_now  shield_no  \\\n",
       "0              10004   Jonathan      Ruiz     078 PCT       8409   \n",
       "1              10007       John     Sears     078 PCT       5952   \n",
       "2              10007       John     Sears     078 PCT       5952   \n",
       "3              10007       John     Sears     078 PCT       5952   \n",
       "4              10009      Noemi    Sierra     078 PCT      24058   \n",
       "...              ...        ...       ...         ...        ...   \n",
       "33353           9992     Tomasz  Pulawski     078 PCT       2642   \n",
       "33354           9992     Tomasz  Pulawski     078 PCT       2642   \n",
       "33355           9992     Tomasz  Pulawski     078 PCT       2642   \n",
       "33356           9992     Tomasz  Pulawski     078 PCT       2642   \n",
       "33357           9992     Tomasz  Pulawski     078 PCT       2642   \n",
       "\n",
       "       complaint_id  month_received  year_received  month_closed  year_closed  \\\n",
       "0             42835               7           2019             5         2020   \n",
       "1             24601              11           2011             8         2012   \n",
       "2             24601              11           2011             8         2012   \n",
       "3             26146               7           2012             9         2013   \n",
       "4             40253               8           2018             2         2019   \n",
       "...             ...             ...            ...           ...          ...   \n",
       "33353         35671               8           2016             2         2017   \n",
       "33354         35671               8           2016             2         2017   \n",
       "33355         35671               8           2016             2         2017   \n",
       "33356         35671               8           2016             2         2017   \n",
       "33357         35671               8           2016             2         2017   \n",
       "\n",
       "       ... mos_age_incident complainant_ethnicity complainant_gender  \\\n",
       "0      ...               32                 Black             Female   \n",
       "1      ...               24                 Black               Male   \n",
       "2      ...               24                 Black               Male   \n",
       "3      ...               25                 Black               Male   \n",
       "4      ...               39                   NaN                NaN   \n",
       "...    ...              ...                   ...                ...   \n",
       "33353  ...               36                 Asian               Male   \n",
       "33354  ...               36                 Asian               Male   \n",
       "33355  ...               36                 Asian               Male   \n",
       "33356  ...               36                 Asian               Male   \n",
       "33357  ...               36                 Asian               Male   \n",
       "\n",
       "      complainant_age_incident           fado_type  \\\n",
       "0                         38.0  Abuse of Authority   \n",
       "1                         26.0         Discourtesy   \n",
       "2                         26.0  Offensive Language   \n",
       "3                         45.0  Abuse of Authority   \n",
       "4                         16.0               Force   \n",
       "...                        ...                 ...   \n",
       "33353                     21.0         Discourtesy   \n",
       "33354                     21.0  Abuse of Authority   \n",
       "33355                     21.0  Abuse of Authority   \n",
       "33356                     21.0  Abuse of Authority   \n",
       "33357                     21.0  Abuse of Authority   \n",
       "\n",
       "                         allegation precinct  \\\n",
       "0      Failure to provide RTKA card     78.0   \n",
       "1                            Action     67.0   \n",
       "2                              Race     67.0   \n",
       "3                          Question     67.0   \n",
       "4                    Physical force     67.0   \n",
       "...                             ...      ...   \n",
       "33353                          Word     66.0   \n",
       "33354   Interference with recording     66.0   \n",
       "33355            Search (of person)     66.0   \n",
       "33356                Vehicle search     66.0   \n",
       "33357                         Frisk     66.0   \n",
       "\n",
       "                                     contact_reason  \\\n",
       "0                           Report-domestic dispute   \n",
       "1                                  Moving violation   \n",
       "2                                  Moving violation   \n",
       "3      PD suspected C/V of violation/crime - street   \n",
       "4                                    Report-dispute   \n",
       "...                                             ...   \n",
       "33353                              Moving violation   \n",
       "33354                              Moving violation   \n",
       "33355                              Moving violation   \n",
       "33356                              Moving violation   \n",
       "33357                              Moving violation   \n",
       "\n",
       "                    outcome_description  \\\n",
       "0      No arrest made or summons issued   \n",
       "1       Moving violation summons issued   \n",
       "2       Moving violation summons issued   \n",
       "3      No arrest made or summons issued   \n",
       "4        Arrest - other violation/crime   \n",
       "...                                 ...   \n",
       "33353   Moving violation summons issued   \n",
       "33354   Moving violation summons issued   \n",
       "33355   Moving violation summons issued   \n",
       "33356   Moving violation summons issued   \n",
       "33357   Moving violation summons issued   \n",
       "\n",
       "                              board_disposition  \n",
       "0      Substantiated (Command Lvl Instructions)  \n",
       "1                       Substantiated (Charges)  \n",
       "2                       Substantiated (Charges)  \n",
       "3                       Substantiated (Charges)  \n",
       "4          Substantiated (Command Discipline A)  \n",
       "...                                         ...  \n",
       "33353                           Unsubstantiated  \n",
       "33354                           Unsubstantiated  \n",
       "33355       Substantiated (Formalized Training)  \n",
       "33356       Substantiated (Formalized Training)  \n",
       "33357       Substantiated (Formalized Training)  \n",
       "\n",
       "[33358 rows x 27 columns]"
      ]
     },
     "execution_count": 267,
     "metadata": {},
     "output_type": "execute_result"
    }
   ],
   "source": [
    "complaints = pd.read_csv('allegations.csv')\n",
    "complaints"
   ]
  },
  {
   "cell_type": "code",
   "execution_count": 268,
   "metadata": {},
   "outputs": [],
   "source": [
    "# Here, we are only selecting the columns in complaints that are relevant to our question and analysis\n",
    "\n",
    "keep_cols = ['unique_mos_id', 'complaint_id', 'month_received', 'year_received', 'month_closed', \n",
    "             'year_closed', 'mos_ethnicity', 'mos_gender', 'mos_age_incident', 'complainant_ethnicity', \n",
    "             'complainant_gender', 'complainant_age_incident', 'fado_type', 'allegation', 'precinct', 'board_disposition']\n",
    "complaints = complaints[keep_cols]"
   ]
  },
  {
   "cell_type": "code",
   "execution_count": 269,
   "metadata": {},
   "outputs": [],
   "source": [
    "# Here, we are calculting the time that the case has been open for each complaint. We do so by combining the corresponding\n",
    "# month and years and changing the combined date to a datetime object. Then, we find the difference between the received\n",
    "# and closed dates in months and add it as a new column to the complaints dataframe called 'time open (in months)'. Lastly,\n",
    "# all the other date columns are dropped as they are no longer relevant to our analysis.\n",
    "\n",
    "def timechanger1(row):\n",
    "    return str(row['month_received']) + '/' + str(row['year_received'])\n",
    "\n",
    "def timechanger2(row):\n",
    "    return str(row['month_closed']) + '/' + str(row['year_closed'])\n",
    "\n",
    "def diff_month(dates):\n",
    "    return (dates[1].year - dates[0].year) * 12 + dates[1].month - dates[0].month\n",
    "\n",
    "date1 = pd.to_datetime(complaints.apply(timechanger1, axis = 1))\n",
    "date2 = pd.to_datetime(complaints.apply(timechanger2, axis = 1))\n",
    "\n",
    "temp = pd.DataFrame([date1, date2]).T\n",
    "time_diff = temp.apply(diff_month, axis = 1)\n",
    "\n",
    "complaints = complaints.assign(**{'time_open (in months)' : time_diff})\n",
    "complaints = complaints.drop(['month_received', 'year_received', 'month_closed', 'year_closed'], axis = 1)"
   ]
  },
  {
   "cell_type": "code",
   "execution_count": 270,
   "metadata": {},
   "outputs": [],
   "source": [
    "# Here, we look for the columns in our modified dataset to see which of the values are Unkown, as some of the missing\n",
    "# values in the dataset were stored as 'Unknown'. Using a for loop and printing the count of unkowns in each column\n",
    "# showed which of the columns need to be processed in order to change the 'Unknowns' to np.NaN and only the\n",
    "# complainant_ethnicity column seemed to have values that are unkown, therefore that column was processed.\n",
    "\n",
    "def change_unknown_to_nan(x):\n",
    "    if x == 'Unknown':\n",
    "        return np.NaN\n",
    "    else:\n",
    "        return x\n",
    "\n",
    "complaints['complainant_ethnicity'] = complaints['complainant_ethnicity'].apply(change_unknown_to_nan)"
   ]
  },
  {
   "cell_type": "code",
   "execution_count": 271,
   "metadata": {},
   "outputs": [],
   "source": [
    "# Here, we change the mos_gender values to look like complainant_gender values so that graphs and analyses can have\n",
    "# consistent syntax and formatting.\n",
    "\n",
    "def process_gender(gender):\n",
    "    if gender == 'M':\n",
    "        return 'Male'\n",
    "    elif gender == 'F':\n",
    "        return 'Female'\n",
    "    else:\n",
    "        return gender\n",
    "\n",
    "complaints['mos_gender'] = complaints['mos_gender'].apply(process_gender)"
   ]
  },
  {
   "cell_type": "code",
   "execution_count": 272,
   "metadata": {},
   "outputs": [],
   "source": [
    "# Here, we clean the board_disposition or the decision of the board on the case to include: substantiated, unsubstantiated,\n",
    "# and exonerated as the only main decisions to simplify some aggregate visualizations.\n",
    "\n",
    "def change_disposition(x):\n",
    "    if 'Substantiated' in x:\n",
    "        return 'Substantiated'\n",
    "    else:\n",
    "        return x\n",
    "\n",
    "complaints['board_disposition'] = complaints['board_disposition'].apply(change_disposition)"
   ]
  },
  {
   "cell_type": "code",
   "execution_count": 273,
   "metadata": {},
   "outputs": [],
   "source": [
    "# change the ages of the complainants that are zero or less to nan's as it is likely an error in data collection\n",
    "complaints['complainant_age_incident'] = complaints['complainant_age_incident'].apply(lambda x : np.NaN if x <= 0.0 else x)"
   ]
  },
  {
   "cell_type": "code",
   "execution_count": 274,
   "metadata": {},
   "outputs": [],
   "source": [
    "# Drops the allegation column as it is not relevant to the Ml Regression model\n",
    "complaints = complaints.drop('allegation', axis = 1)"
   ]
  },
  {
   "cell_type": "code",
   "execution_count": 275,
   "metadata": {},
   "outputs": [],
   "source": [
    "# Dropping the rows where the Precinct is null as there are very few rows to have an impact on the analysis.\n",
    "complaints = complaints.drop(complaints[complaints['precinct'].isna()].index)"
   ]
  },
  {
   "cell_type": "code",
   "execution_count": 276,
   "metadata": {},
   "outputs": [],
   "source": [
    "# this helper function takes in the dataframe and a column to impute and imputes the missing values\n",
    "# based on sampling from the non-nan values in the distribution. we felt this was the most effective way \n",
    "# to fill in our nan values so that they would not interfere with the model\n",
    "\n",
    "def impute(col, comps):\n",
    "    num = comps[col].isna().sum()\n",
    "    sample = comps[col].dropna().sample(num, replace = True)\n",
    "    sample.index = comps[comps[col].isna()].index\n",
    "    complaints = comps.fillna({col : sample.to_dict()})\n",
    "    return complaints\n",
    "\n",
    "eth_impute = impute('complainant_ethnicity', complaints)\n",
    "gen_impute = impute('complainant_gender', eth_impute)\n",
    "age_impute = impute('complainant_age_incident', gen_impute)"
   ]
  },
  {
   "cell_type": "code",
   "execution_count": 277,
   "metadata": {},
   "outputs": [],
   "source": [
    "# Here, by the time age_impute is calculated, the entire dataset is properly imputed, therefore, we are doing a deep\n",
    "# copy of the age_impute dataset into complaints as it is the final cleaned dataset for the regression.\n",
    "complaints = age_impute.copy()"
   ]
  },
  {
   "cell_type": "code",
   "execution_count": 278,
   "metadata": {},
   "outputs": [
    {
     "data": {
      "text/plain": [
       "unique_mos_id               0.0\n",
       "complaint_id                0.0\n",
       "mos_ethnicity               0.0\n",
       "mos_gender                  0.0\n",
       "mos_age_incident            0.0\n",
       "complainant_ethnicity       0.0\n",
       "complainant_gender          0.0\n",
       "complainant_age_incident    0.0\n",
       "fado_type                   0.0\n",
       "precinct                    0.0\n",
       "board_disposition           0.0\n",
       "time_open (in months)       0.0\n",
       "dtype: float64"
      ]
     },
     "execution_count": 278,
     "metadata": {},
     "output_type": "execute_result"
    }
   ],
   "source": [
    "complaints.isna().mean()"
   ]
  },
  {
   "cell_type": "code",
   "execution_count": 279,
   "metadata": {},
   "outputs": [
    {
     "data": {
      "text/html": [
       "<div>\n",
       "<style scoped>\n",
       "    .dataframe tbody tr th:only-of-type {\n",
       "        vertical-align: middle;\n",
       "    }\n",
       "\n",
       "    .dataframe tbody tr th {\n",
       "        vertical-align: top;\n",
       "    }\n",
       "\n",
       "    .dataframe thead th {\n",
       "        text-align: right;\n",
       "    }\n",
       "</style>\n",
       "<table border=\"1\" class=\"dataframe\">\n",
       "  <thead>\n",
       "    <tr style=\"text-align: right;\">\n",
       "      <th></th>\n",
       "      <th>unique_mos_id</th>\n",
       "      <th>complaint_id</th>\n",
       "      <th>mos_ethnicity</th>\n",
       "      <th>mos_gender</th>\n",
       "      <th>mos_age_incident</th>\n",
       "      <th>complainant_ethnicity</th>\n",
       "      <th>complainant_gender</th>\n",
       "      <th>complainant_age_incident</th>\n",
       "      <th>fado_type</th>\n",
       "      <th>precinct</th>\n",
       "      <th>board_disposition</th>\n",
       "      <th>time_open (in months)</th>\n",
       "    </tr>\n",
       "  </thead>\n",
       "  <tbody>\n",
       "    <tr>\n",
       "      <th>0</th>\n",
       "      <td>10004</td>\n",
       "      <td>42835</td>\n",
       "      <td>Hispanic</td>\n",
       "      <td>Male</td>\n",
       "      <td>32</td>\n",
       "      <td>Black</td>\n",
       "      <td>Female</td>\n",
       "      <td>38.0</td>\n",
       "      <td>Abuse of Authority</td>\n",
       "      <td>78.0</td>\n",
       "      <td>Substantiated</td>\n",
       "      <td>10</td>\n",
       "    </tr>\n",
       "    <tr>\n",
       "      <th>1</th>\n",
       "      <td>10007</td>\n",
       "      <td>24601</td>\n",
       "      <td>White</td>\n",
       "      <td>Male</td>\n",
       "      <td>24</td>\n",
       "      <td>Black</td>\n",
       "      <td>Male</td>\n",
       "      <td>26.0</td>\n",
       "      <td>Discourtesy</td>\n",
       "      <td>67.0</td>\n",
       "      <td>Substantiated</td>\n",
       "      <td>9</td>\n",
       "    </tr>\n",
       "    <tr>\n",
       "      <th>2</th>\n",
       "      <td>10007</td>\n",
       "      <td>24601</td>\n",
       "      <td>White</td>\n",
       "      <td>Male</td>\n",
       "      <td>24</td>\n",
       "      <td>Black</td>\n",
       "      <td>Male</td>\n",
       "      <td>26.0</td>\n",
       "      <td>Offensive Language</td>\n",
       "      <td>67.0</td>\n",
       "      <td>Substantiated</td>\n",
       "      <td>9</td>\n",
       "    </tr>\n",
       "    <tr>\n",
       "      <th>3</th>\n",
       "      <td>10007</td>\n",
       "      <td>26146</td>\n",
       "      <td>White</td>\n",
       "      <td>Male</td>\n",
       "      <td>25</td>\n",
       "      <td>Black</td>\n",
       "      <td>Male</td>\n",
       "      <td>45.0</td>\n",
       "      <td>Abuse of Authority</td>\n",
       "      <td>67.0</td>\n",
       "      <td>Substantiated</td>\n",
       "      <td>14</td>\n",
       "    </tr>\n",
       "    <tr>\n",
       "      <th>4</th>\n",
       "      <td>10009</td>\n",
       "      <td>40253</td>\n",
       "      <td>Hispanic</td>\n",
       "      <td>Female</td>\n",
       "      <td>39</td>\n",
       "      <td>Black</td>\n",
       "      <td>Male</td>\n",
       "      <td>16.0</td>\n",
       "      <td>Force</td>\n",
       "      <td>67.0</td>\n",
       "      <td>Substantiated</td>\n",
       "      <td>6</td>\n",
       "    </tr>\n",
       "  </tbody>\n",
       "</table>\n",
       "</div>"
      ],
      "text/plain": [
       "   unique_mos_id  complaint_id mos_ethnicity mos_gender  mos_age_incident  \\\n",
       "0          10004         42835      Hispanic       Male                32   \n",
       "1          10007         24601         White       Male                24   \n",
       "2          10007         24601         White       Male                24   \n",
       "3          10007         26146         White       Male                25   \n",
       "4          10009         40253      Hispanic     Female                39   \n",
       "\n",
       "  complainant_ethnicity complainant_gender  complainant_age_incident  \\\n",
       "0                 Black             Female                      38.0   \n",
       "1                 Black               Male                      26.0   \n",
       "2                 Black               Male                      26.0   \n",
       "3                 Black               Male                      45.0   \n",
       "4                 Black               Male                      16.0   \n",
       "\n",
       "            fado_type  precinct board_disposition  time_open (in months)  \n",
       "0  Abuse of Authority      78.0     Substantiated                     10  \n",
       "1         Discourtesy      67.0     Substantiated                      9  \n",
       "2  Offensive Language      67.0     Substantiated                      9  \n",
       "3  Abuse of Authority      67.0     Substantiated                     14  \n",
       "4               Force      67.0     Substantiated                      6  "
      ]
     },
     "execution_count": 279,
     "metadata": {},
     "output_type": "execute_result"
    }
   ],
   "source": [
    "complaints.head()"
   ]
  },
  {
   "cell_type": "markdown",
   "metadata": {},
   "source": [
    "### Baseline Model"
   ]
  },
  {
   "cell_type": "code",
   "execution_count": 280,
   "metadata": {},
   "outputs": [],
   "source": [
    "# Splits our complaints data set with a test size of 20%, sets up X and y datasets that will be used throughout the project.\n",
    "\n",
    "X = complaints.drop('time_open (in months)', axis = 1)\n",
    "y = complaints['time_open (in months)']\n",
    "X_train, X_test, y_train, y_test = train_test_split(X, y, test_size=0.20)"
   ]
  },
  {
   "cell_type": "code",
   "execution_count": 281,
   "metadata": {},
   "outputs": [
    {
     "data": {
      "text/plain": [
       "Pipeline(steps=[('preprocessor',\n",
       "                 ColumnTransformer(transformers=[('as-is',\n",
       "                                                  Pipeline(steps=[('nothing',\n",
       "                                                                   FunctionTransformer(func=<function helper at 0x00000190B34C8B80>))]),\n",
       "                                                  ['mos_age_incident',\n",
       "                                                   'complainant_age_incident']),\n",
       "                                                 ('cat',\n",
       "                                                  Pipeline(steps=[('one-hot',\n",
       "                                                                   OneHotEncoder())]),\n",
       "                                                  ['mos_ethnicity',\n",
       "                                                   'mos_gender',\n",
       "                                                   'complainant_ethnicity',\n",
       "                                                   'complainant_gender',\n",
       "                                                   'fado_type'])])),\n",
       "                ('lin-reg', LinearRegression())])"
      ]
     },
     "execution_count": 281,
     "metadata": {},
     "output_type": "execute_result"
    }
   ],
   "source": [
    "# Here, we build the baseline model to predict the time open of each case by using a basic LinearRegression().\n",
    "\n",
    "def helper(col):\n",
    "    return col\n",
    "\n",
    "# Pipeline that passes the columns as is into the final regression\n",
    "pass_cols = ['mos_age_incident', 'complainant_age_incident']\n",
    "no_transformer = Pipeline(steps = [('nothing', FunctionTransformer(helper))])\n",
    "\n",
    "# Pipeline that one hot encodes nomial columns that are passed in\n",
    "one_hot_cols = ['mos_ethnicity', 'mos_gender', 'complainant_ethnicity', 'complainant_gender', \n",
    "                'fado_type']\n",
    "one_hot = Pipeline(steps = [('one-hot', OneHotEncoder())])\n",
    "\n",
    "# ColumnTransformer that combines the above pipelines into a single transformer\n",
    "preproc_baseline = ColumnTransformer(transformers = [('as-is', no_transformer, pass_cols), \n",
    "                            ('cat', one_hot, one_hot_cols)], remainder = 'drop')\n",
    "\n",
    "# Final baseline model pipeline that is used to predict the time open in months\n",
    "pipe = Pipeline(steps = [('preprocessor', preproc_baseline), ('lin-reg', LinearRegression())])\n",
    "pipe.fit(X_train, y_train)"
   ]
  },
  {
   "cell_type": "code",
   "execution_count": 282,
   "metadata": {},
   "outputs": [
    {
     "name": "stdout",
     "output_type": "stream",
     "text": [
      "R^2: 0.013198549998511\n",
      "RMSE: 5.063197428660068\n"
     ]
    }
   ],
   "source": [
    "# Here, the RMSE and R^2 of the model on the test dataset are calculated and displayed.\n",
    "\n",
    "preds = np.round(pipe.predict(X_test))\n",
    "rmse = np.sqrt(np.mean((preds - y_test)**2))\n",
    "print('R^2: ' + str(pipe.score(X_test, y_test)))\n",
    "print('RMSE: ' + str(rmse))"
   ]
  },
  {
   "cell_type": "markdown",
   "metadata": {},
   "source": [
    "### Final Model"
   ]
  },
  {
   "cell_type": "markdown",
   "metadata": {},
   "source": [
    "##### Feature Engineering and Building Initial Pipeline"
   ]
  },
  {
   "cell_type": "code",
   "execution_count": 283,
   "metadata": {},
   "outputs": [],
   "source": [
    "# Here, we built a transformer that takes in a dataframe with the first column signifying a group column. This transformer\n",
    "# then standardizes the data in each group by z-scoring it.\n",
    "\n",
    "from sklearn.base import BaseEstimator, TransformerMixin\n",
    "\n",
    "\n",
    "class StdScalerByGroup(BaseEstimator, TransformerMixin):\n",
    "    \n",
    "    def __init__(self):\n",
    "        pass\n",
    "\n",
    "    def fit(self, X, y=None):\n",
    "        \n",
    "        # Converts X to a dataframe\n",
    "        df = pd.DataFrame(X)\n",
    "        \n",
    "        # Groups by the first column and calculates the mean and std of each group\n",
    "        vals = df.groupby(df.iloc[:, 0]).aggregate([np.mean, np.std])\n",
    "\n",
    "        # Stores the dict of means and stds in a dictionary within an attribute of the transformer\n",
    "        self.grps_ = vals.to_dict()\n",
    "\n",
    "        return self\n",
    "\n",
    "    def transform(self, X, y=None):\n",
    "        \n",
    "        try:\n",
    "            getattr(self, \"grps_\")\n",
    "        except AttributeError:\n",
    "            raise RuntimeError(\"You must fit the transformer before tranforming the data!\")\n",
    "        \n",
    "\n",
    "        # Helper function that z-scores each colum using the dictionary stored\n",
    "        def helper(df):\n",
    "            group = df.iloc[:, 0].unique()[0]\n",
    "            df = df.drop(df.columns[0], axis = 1)\n",
    "            \n",
    "            for x in df.columns:\n",
    "                df[x] = (df[x] - self.grps_[(x, 'mean')][group]) / self.grps_[(x, 'std')][group]\n",
    "                \n",
    "            return df\n",
    "\n",
    "        df = pd.DataFrame(X)\n",
    "    \n",
    "        # transforms the dataframe using the helper and returns it\n",
    "        return df.groupby(df.iloc[:, 0]).apply(helper)"
   ]
  },
  {
   "cell_type": "code",
   "execution_count": 284,
   "metadata": {},
   "outputs": [],
   "source": [
    "# Binarize function that takes in ethnicity columns and binarizes White to be 1 and all non-White ethnicities to be 0.\n",
    "\n",
    "def Binarize(df):\n",
    "    def applier(ethnicity):\n",
    "        if ethnicity == 'White':\n",
    "            return 1\n",
    "        else:\n",
    "            return 0\n",
    "    \n",
    "    for col in df.columns:\n",
    "        df[col] = df[col].apply(applier)\n",
    "    return df"
   ]
  },
  {
   "cell_type": "code",
   "execution_count": 285,
   "metadata": {},
   "outputs": [],
   "source": [
    "# Here, we build the preprocessor that performs all the transformations on the different columns of the training data.\n",
    "\n",
    "# Pipeline that standardizes complainant age based on the ethnicity of the complainant\n",
    "comp_cols = ['complainant_ethnicity', 'complainant_age_incident']\n",
    "scale_complainant = Pipeline(steps = [('std_scale_complainant', StdScalerByGroup())])\n",
    "\n",
    "# Pipeline that standardizes mos (police officer) age based on the precinct that the complaint was associated with.\n",
    "mos_cols = ['precinct', 'mos_age_incident']\n",
    "scale_mos = Pipeline(steps = [('std_scale_mos', StdScalerByGroup())])\n",
    "\n",
    "# Pipline that binarizes the ethnicities of the complainant and police officer\n",
    "binary_cols = ['complainant_ethnicity', 'mos_ethnicity']\n",
    "binarize = Pipeline(steps = [('binarizer', FunctionTransformer(Binarize, validate = False))])\n",
    "\n",
    "# Pipeline that one-hot encodes all the other nominal columns\n",
    "cat_cols = ['mos_gender', 'complainant_gender', 'fado_type']\n",
    "one_hot = Pipeline(steps = [('one-hot', OneHotEncoder())])\n",
    "\n",
    "# ColumnTransformer or preprocessor that combines all the above pipelines into one transformer\n",
    "preproc = ColumnTransformer(transformers = [('standardize_complainant', scale_complainant, comp_cols), \n",
    "                            ('standardize_mos', scale_mos, mos_cols), ('Binarize', binarize, binary_cols),\n",
    "                            ('cat', one_hot, cat_cols)], remainder = 'drop')"
   ]
  },
  {
   "cell_type": "markdown",
   "metadata": {},
   "source": [
    "##### Evaluating Different Regression Models Using GridSearchCV"
   ]
  },
  {
   "cell_type": "code",
   "execution_count": 180,
   "metadata": {},
   "outputs": [],
   "source": [
    "# Method that runs a gridsearch cross validation to find the best parameters for the model that is being evaluated.\n",
    "\n",
    "def GS_model(regressor, preprocessor, comps_data, parameters):\n",
    "    \n",
    "    X = complaints.drop('time_open (in months)', axis = 1)\n",
    "    y = complaints['time_open (in months)']\n",
    "    X_train, X_test, y_train, y_test = train_test_split(X, y, test_size=0.20)\n",
    "    \n",
    "    # build the pipeline using the preprocessor and the regressor that was passed in\n",
    "    pipe = Pipeline(steps = [('preprocessor', preprocessor), ('reg', regressor)])\n",
    "    \n",
    "    # transform the train data that is passed into the GridSearch using the preprocessor\n",
    "    preprocessed = pipe['preprocessor'].fit_transform(X_train)\n",
    "    \n",
    "    # Define the GridSearch and fit the train dataset\n",
    "    clf = GridSearchCV(pipe['reg'], parameters, cv=3)\n",
    "    clf.fit(preprocessed, y_train)\n",
    "    \n",
    "    # Return the completed GridSearch\n",
    "    return clf"
   ]
  },
  {
   "cell_type": "code",
   "execution_count": 182,
   "metadata": {},
   "outputs": [
    {
     "data": {
      "text/plain": [
       "{'max_depth': None, 'min_samples_leaf': 1, 'min_samples_split': 2}"
      ]
     },
     "execution_count": 182,
     "metadata": {},
     "output_type": "execute_result"
    }
   ],
   "source": [
    "# Evaluation of best model for a RandomForestRegressor().\n",
    "\n",
    "# Parameters to test\n",
    "parameters = {\n",
    "    'max_depth': [None,2,5,7,10,15,20], \n",
    "    'min_samples_split':[2,7,15],\n",
    "    'min_samples_leaf':[1,2,7,15]\n",
    "}\n",
    "\n",
    "# Run the gird search on RandomForestRegressor() by calling GS_model() and display the best parameters for the model\n",
    "forest_GC = GS_model(RandomForestRegressor(), preproc, complaints, parameters)\n",
    "forest_GC.best_params_"
   ]
  },
  {
   "cell_type": "code",
   "execution_count": 183,
   "metadata": {},
   "outputs": [
    {
     "data": {
      "text/plain": [
       "Text(0.5, 0.98, 'Accuracies on tain set for RandomForestRegressor')"
      ]
     },
     "execution_count": 183,
     "metadata": {},
     "output_type": "execute_result"
    },
    {
     "data": {
      "image/png": "[encoded data removed]",
      "text/plain": [
       "<Figure size 432x288 with 1 Axes>"
      ]
     },
     "metadata": {
      "image/png": {
       "height": 277,
       "width": 368
      },
      "needs_background": "light"
     },
     "output_type": "display_data"
    }
   ],
   "source": [
    "# Plot the distribution of model test scores (R^2) as a histogram to see the performance of all parameters of the model.\n",
    "plt.hist(forest_GC.cv_results_['mean_test_score'])\n",
    "plt.suptitle('Accuracies on tain set for RandomForestRegressor')"
   ]
  },
  {
   "cell_type": "code",
   "execution_count": 184,
   "metadata": {},
   "outputs": [
    {
     "data": {
      "text/plain": [
       "{'max_depth': 5, 'min_samples_leaf': 5, 'min_samples_split': 15}"
      ]
     },
     "execution_count": 184,
     "metadata": {},
     "output_type": "execute_result"
    }
   ],
   "source": [
    "# Evaluation of best model for a DecisionTreeRegressor().\n",
    "\n",
    "# Parameters to test\n",
    "parameters = {\n",
    "    'max_depth': [None,1,3,5,7,10,15,20], \n",
    "    'min_samples_split':[2,3,5,7,10,15,20],\n",
    "    'min_samples_leaf':[2,3,5,7,10,15,20]\n",
    "}\n",
    "\n",
    "# Run the gird search on DecisionTreeRegressor() by calling GS_model() and display the best parameters for the model\n",
    "decision_GC = GS_model(DecisionTreeRegressor(), preproc, complaints, parameters)\n",
    "decision_GC.best_params_"
   ]
  },
  {
   "cell_type": "code",
   "execution_count": 185,
   "metadata": {},
   "outputs": [
    {
     "data": {
      "text/plain": [
       "Text(0.5, 0.98, 'Accuracies on tain set for DecisionTreeRegressor')"
      ]
     },
     "execution_count": 185,
     "metadata": {},
     "output_type": "execute_result"
    },
    {
     "data": {
      "image/png": "[encoded data removed]",
      "text/plain": [
       "<Figure size 432x288 with 1 Axes>"
      ]
     },
     "metadata": {
      "image/png": {
       "height": 277,
       "width": 375
      },
      "needs_background": "light"
     },
     "output_type": "display_data"
    }
   ],
   "source": [
    "# Plot the distribution of model test scores (R^2) as a histogram to see the performance of all parameters of the model.\n",
    "plt.hist(decision_GC.cv_results_['mean_test_score'])\n",
    "plt.suptitle('Accuracies on tain set for DecisionTreeRegressor')"
   ]
  },
  {
   "cell_type": "code",
   "execution_count": 186,
   "metadata": {},
   "outputs": [
    {
     "data": {
      "text/plain": [
       "{'leaf_size': 300, 'n_neighbors': 20}"
      ]
     },
     "execution_count": 186,
     "metadata": {},
     "output_type": "execute_result"
    }
   ],
   "source": [
    "# Evaluation of best model for a KNeighborsRegressor().\n",
    "\n",
    "# Parameters to test\n",
    "parameters = {\n",
    "    'n_neighbors': [2,4,6,8,10,13,15,18,20], \n",
    "    'leaf_size':[10,30,50,100,200,300,500,1000]\n",
    "}\n",
    "\n",
    "# Run the gird search on KNeighborsRegressor() by calling GS_model() and display the best parameters for the model\n",
    "Kneighbors_GC = GS_model(KNeighborsRegressor(), preproc, complaints, parameters)\n",
    "Kneighbors_GC.best_params_"
   ]
  },
  {
   "cell_type": "code",
   "execution_count": 187,
   "metadata": {},
   "outputs": [
    {
     "data": {
      "text/plain": [
       "Text(0.5, 0.98, 'Accuracies on tain set for KNeighborsRegressor')"
      ]
     },
     "execution_count": 187,
     "metadata": {},
     "output_type": "execute_result"
    },
    {
     "data": {
      "image/png": "[encoded data removed]",
      "text/plain": [
       "<Figure size 432x288 with 1 Axes>"
      ]
     },
     "metadata": {
      "image/png": {
       "height": 277,
       "width": 380
      },
      "needs_background": "light"
     },
     "output_type": "display_data"
    }
   ],
   "source": [
    "# Plot the distribution of model test scores (R^2) as a histogram to see the performance of all parameters of the model.\n",
    "plt.hist(Kneighbors_GC.cv_results_['mean_test_score'])\n",
    "plt.suptitle('Accuracies on tain set for KNeighborsRegressor')"
   ]
  },
  {
   "cell_type": "markdown",
   "metadata": {},
   "source": [
    "#### Choosing Final Model Based on Evaluation"
   ]
  },
  {
   "cell_type": "code",
   "execution_count": 286,
   "metadata": {},
   "outputs": [],
   "source": [
    "# Method that calculates the RMSE and R^2 for the model that is passed in.\n",
    "\n",
    "def calc_model(regressor, preprocessor, X_train, X_test, y_train, y_test):\n",
    "    \n",
    "    # Build the Pipeline using the preprocessor and regressor that is passed and fit the training data to the model\n",
    "    pipe = Pipeline(steps = [('preprocessor', preprocessor), ('reg', regressor)])\n",
    "    pipe.fit(X_train, y_train)\n",
    "    \n",
    "    # Calculate the RMSE and R^2 values\n",
    "    r_squared = pipe.score(X_test, y_test)\n",
    "    preds = np.round(pipe.predict(X_test))\n",
    "    rmse = np.sqrt(np.mean((preds - y_test)**2))\n",
    "    \n",
    "    # return the results\n",
    "    return r_squared, rmse"
   ]
  },
  {
   "cell_type": "code",
   "execution_count": 287,
   "metadata": {},
   "outputs": [
    {
     "name": "stdout",
     "output_type": "stream",
     "text": [
      "R^2: 0.2680052273076413\n",
      "RMSE: 4.365432069124715\n"
     ]
    }
   ],
   "source": [
    "# Calculation of RMSE and R^2 for the best parameter set returned by GridSearch of RandomForestRegressor().\n",
    "\n",
    "best_forest = calc_model(RandomForestRegressor(max_depth = None, min_samples_leaf = 1, min_samples_split = 2),\n",
    "                         preproc, X_train, X_test, y_train, y_test)\n",
    "print('R^2: ' + str(best_forest[0]))\n",
    "print('RMSE: ' + str(best_forest[1]))"
   ]
  },
  {
   "cell_type": "code",
   "execution_count": 288,
   "metadata": {},
   "outputs": [
    {
     "name": "stdout",
     "output_type": "stream",
     "text": [
      "R^2: 0.011171450577356024\n",
      "RMSE: 5.066958288429575\n"
     ]
    }
   ],
   "source": [
    "# Calculation of RMSE and R^2 for the best parameter set returned by GridSearch of DecisionTreeRegressor().\n",
    "\n",
    "best_decision = calc_model(DecisionTreeRegressor(max_depth = 5, min_samples_leaf = 5, min_samples_split = 15),\n",
    "                         preproc, X_train, X_test, y_train, y_test)\n",
    "print('R^2: ' + str(best_decision[0]))\n",
    "print('RMSE: ' + str(best_decision[1]))"
   ]
  },
  {
   "cell_type": "code",
   "execution_count": 289,
   "metadata": {},
   "outputs": [
    {
     "name": "stdout",
     "output_type": "stream",
     "text": [
      "R^2: 0.005694025156449456\n",
      "RMSE: 5.084408268385616\n"
     ]
    }
   ],
   "source": [
    "# Calculation of RMSE and R^2 for the best parameter set returned by GridSearch of KNeighborsRegressor().\n",
    "\n",
    "best_Kneighbors = calc_model(KNeighborsRegressor(leaf_size = 300, n_neighbors = 20),\n",
    "                         preproc, X_train, X_test, y_train, y_test)\n",
    "print('R^2: ' + str(best_Kneighbors[0]))\n",
    "print('RMSE: ' + str(best_Kneighbors[1]))"
   ]
  },
  {
   "cell_type": "code",
   "execution_count": 290,
   "metadata": {},
   "outputs": [
    {
     "name": "stdout",
     "output_type": "stream",
     "text": [
      "R^2: 0.008146790521201042\n",
      "RMSE: 5.075565183494682\n"
     ]
    }
   ],
   "source": [
    "# Calculation of RMSE and R^2 for the best parameter set returned by GridSearch of LinearRegression().\n",
    "\n",
    "best_Linear = calc_model(LinearRegression(), preproc, X_train, X_test, y_train, y_test)\n",
    "print('R^2: ' + str(best_Linear[0]))\n",
    "print('RMSE: ' + str(best_Linear[1]))"
   ]
  },
  {
   "cell_type": "code",
   "execution_count": 291,
   "metadata": {},
   "outputs": [
    {
     "data": {
      "text/plain": [
       "Pipeline(steps=[('preprocessor',\n",
       "                 ColumnTransformer(transformers=[('standardize_complainant',\n",
       "                                                  Pipeline(steps=[('std_scale_complainant',\n",
       "                                                                   StdScalerByGroup())]),\n",
       "                                                  ['complainant_ethnicity',\n",
       "                                                   'complainant_age_incident']),\n",
       "                                                 ('standardize_mos',\n",
       "                                                  Pipeline(steps=[('std_scale_mos',\n",
       "                                                                   StdScalerByGroup())]),\n",
       "                                                  ['precinct',\n",
       "                                                   'mos_age_incident']),\n",
       "                                                 ('Binarize',\n",
       "                                                  Pipeline(steps=[('binarizer',\n",
       "                                                                   FunctionTransformer(func=<function Binarize at 0x00000190920AFF70>))]),\n",
       "                                                  ['complainant_ethnicity',\n",
       "                                                   'mos_ethnicity']),\n",
       "                                                 ('cat',\n",
       "                                                  Pipeline(steps=[('one-hot',\n",
       "                                                                   OneHotEncoder())]),\n",
       "                                                  ['mos_gender',\n",
       "                                                   'complainant_gender',\n",
       "                                                   'fado_type'])])),\n",
       "                ('reg', RandomForestRegressor())])"
      ]
     },
     "execution_count": 291,
     "metadata": {},
     "output_type": "execute_result"
    }
   ],
   "source": [
    "# Here, we declared the final model to be the best performing model based on the GridSearch and evaluation of the R^2\n",
    "# and RMSE of the model on the test set. Based on the above results, the best model was when the Pipeline was made using a\n",
    "# RandomForestRegressor() with parameters: {'max_depth': None, 'min_samples_leaf': 1, 'min_samples_split': 2}.\n",
    "\n",
    "best_regressor = RandomForestRegressor(max_depth = None, min_samples_leaf = 1, min_samples_split = 2)\n",
    "final_pipe = Pipeline(steps = [('preprocessor', preproc), ('reg', best_regressor)])\n",
    "final_pipe.fit(X_train, y_train)\n",
    "final_pipe"
   ]
  },
  {
   "cell_type": "markdown",
   "metadata": {},
   "source": [
    "### Fairness Evaluation"
   ]
  },
  {
   "cell_type": "markdown",
   "metadata": {},
   "source": [
    "Testing the sub groups (white ethnicity vs non-white ethnicity) of complainant_ethnicity ethnicity column to see if the model predicts one of the groups better than the other. \n",
    "\n",
    "*Null Hypothesis*: my model is fair; the RMSE for my two subsets (white vs non-white) are roughly the same\n",
    "\n",
    "*Alternative Hypothesis*: my model is unfair; the RMSE for the non-white subset is different than the white subset\n",
    "\n",
    "*Test Statistic*: Absolute Difference in RMSE values for white subset and non-white subset"
   ]
  },
  {
   "cell_type": "markdown",
   "metadata": {},
   "source": [
    "##### Calculating Observed Values"
   ]
  },
  {
   "cell_type": "code",
   "execution_count": 292,
   "metadata": {},
   "outputs": [],
   "source": [
    "# Makes a copy temp variable for ease of calculations\n",
    "temp = X_test.assign(**{'Actual': y_test})"
   ]
  },
  {
   "cell_type": "code",
   "execution_count": 293,
   "metadata": {},
   "outputs": [
    {
     "data": {
      "text/plain": [
       "0.38030728098098"
      ]
     },
     "execution_count": 293,
     "metadata": {},
     "output_type": "execute_result"
    }
   ],
   "source": [
    "# Calculates observed test statistic by splitting into white and non-white dfs and making preds using pipeline\n",
    "# Found RMSEs and finally got difference between RMSE's\n",
    "\n",
    "white = X_test.loc[X_test['complainant_ethnicity'] == 'White']\n",
    "nonWhite = X_test.loc[X_test['complainant_ethnicity'] != 'White']\n",
    "predWhite = np.round(final_pipe.predict(white))\n",
    "predNonWhite = np.round(final_pipe.predict(nonWhite))\n",
    "rmseWhite = mean_squared_error(temp.loc[temp['complainant_ethnicity'] == 'White']['Actual'],predWhite)**0.5\n",
    "rmseNonWhite = mean_squared_error(temp.loc[temp['complainant_ethnicity'] != 'White']['Actual'],predNonWhite)**0.5\n",
    "observed = abs(rmseNonWhite - rmseWhite)\n",
    "observed"
   ]
  },
  {
   "cell_type": "markdown",
   "metadata": {},
   "source": [
    "##### Running Simulation"
   ]
  },
  {
   "cell_type": "code",
   "execution_count": 294,
   "metadata": {},
   "outputs": [],
   "source": [
    "differences = [] #array to store differences\n",
    "for i in range(500): #500 iterations\n",
    "    #shuffles complaint ethnicity column and reassigns into dataset\n",
    "    shuffled_ethnicities = temp['complainant_ethnicity'].sample(replace=False, frac=1).reset_index(drop=True)\n",
    "    shuffled = temp.copy().reset_index().drop('index', axis = 1)\n",
    "    shuffled['complainant_ethnicity'] = shuffled_ethnicities\n",
    "    #calculates the difference in RMSE scores for each subset\n",
    "    white = shuffled.loc[shuffled['complainant_ethnicity'] == 'White'].drop('Actual', axis = 1)\n",
    "    nonWhite = shuffled.loc[shuffled['complainant_ethnicity'] != 'White'].drop('Actual', axis = 1)\n",
    "    predWhite = np.round(final_pipe.predict(white))\n",
    "    predNonWhite = np.round(final_pipe.predict(nonWhite))\n",
    "    rmseWhite = mean_squared_error(shuffled.loc[shuffled['complainant_ethnicity'] == 'White']['Actual'],predWhite)**0.5\n",
    "    rmseNonWhite = mean_squared_error(shuffled.loc[shuffled['complainant_ethnicity'] != 'White']['Actual'],predNonWhite)**0.5\n",
    "    simulated = abs(rmseNonWhite - rmseWhite)\n",
    "    differences.append(simulated) #adds to array"
   ]
  },
  {
   "cell_type": "code",
   "execution_count": 295,
   "metadata": {},
   "outputs": [
    {
     "data": {
      "image/png": "[encoded data removed]",
      "text/plain": [
       "<Figure size 432x288 with 1 Axes>"
      ]
     },
     "metadata": {
      "image/png": {
       "height": 263,
       "width": 480
      },
      "needs_background": "light"
     },
     "output_type": "display_data"
    }
   ],
   "source": [
    "title = 'average absolute RMSE difference between white group and non-white group'\n",
    "pd.Series(differences).plot(kind='hist', density=True, title=title)\n",
    "plt.scatter(observed, 0, color='red', s=40);"
   ]
  },
  {
   "cell_type": "code",
   "execution_count": 296,
   "metadata": {},
   "outputs": [
    {
     "name": "stdout",
     "output_type": "stream",
     "text": [
      "P Value: 0.488\n"
     ]
    }
   ],
   "source": [
    "p_value = np.count_nonzero(differences >= observed)/float(500)\n",
    "print('P Value:', p_value)"
   ]
  }
 ],
 "metadata": {
  "kernelspec": {
   "display_name": "Python 3",
   "language": "python",
   "name": "python3"
  },
  "language_info": {
   "codemirror_mode": {
    "name": "ipython",
    "version": 3
   },
   "file_extension": ".py",
   "mimetype": "text/x-python",
   "name": "python",
   "nbconvert_exporter": "python",
   "pygments_lexer": "ipython3",
   "version": "3.8.3"
  }
 },
 "nbformat": 4,
 "nbformat_minor": 2
}
